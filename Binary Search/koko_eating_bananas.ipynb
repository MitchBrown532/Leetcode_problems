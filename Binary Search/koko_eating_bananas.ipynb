{
 "cells": [
  {
   "cell_type": "markdown",
   "id": "87aefdca",
   "metadata": {},
   "source": [
    "## Koko Eating Bananas\n",
    "#### Difficulty: Medium\n",
    "\n",
    "Koko loves to eat bananas. There are `n` piles of bananas, the `i`<sup>th</sup> pile has `piles[i]` bananas. The guards have gone and will come back in `h` hours.\n",
    "\n",
    "Koko can decide her bananas-per-hour eating speed of `k`. Each hour, she chooses some pile of bananas and eats `k` bananas from that pile. If the pile has less than `k` bananas, she eats all of them instead and will not eat any more bananas during this hour.\n",
    "\n",
    "Koko likes to eat slowly but still wants to finish eating all the bananas before the guards return.\n",
    "\n",
    "Return the minimum integer `k` such that she can eat all the bananas within `h` hours.\n",
    "\n",
    "<strong>Example 1:</strong>\n",
    "- Input: piles = [3,6,7,11], h = 8\n",
    "- Output: 4\n",
    "\n",
    "\n",
    "<strong>Example 2:</strong>\n",
    "- Input: piles = [30,11,23,4,20], h = 5\n",
    "- Output: 30\n",
    " \n",
    "<strong>Example 2:</strong>\n",
    "- Input: piles = [30,11,23,4,20], h = 6\n",
    "- Output: 23\n",
    "\n",
    "Constraints:\n",
    "- 1 <= `piles.length` <= 10<sup>4</sup>\n",
    "- `piles.length` <= `h` <= 10<sup>9</sup>\n",
    "- 1 <= `piles[i]` <= 10<sup>9</sup>\n",
    "\n",
    "Link to problem: https://leetcode.com/problems/koko-eating-bananas/description/"
   ]
  },
  {
   "cell_type": "code",
   "execution_count": null,
   "id": "5ae90267",
   "metadata": {},
   "outputs": [],
   "source": [
    "class Solution:\n",
    "    def minEatingSpeed(self, piles: List[int], h: int) -> int:\n",
    "        "
   ]
  },
  {
   "cell_type": "markdown",
   "id": "5df1cf55",
   "metadata": {},
   "source": [
    "Results:\n",
    "\n",
    "![image.png](attachment:image.png)"
   ]
  },
  {
   "cell_type": "code",
   "execution_count": null,
   "id": "71fe7a8c",
   "metadata": {},
   "outputs": [],
   "source": [
    "# Solution 2: Simple implementation of Binary search - Recursive this time\n",
    "# Exact same logic and time+space complexity as above. Despite this, it performs FAR worse on leetcode. (in both runtime and memory)\n",
    "# Recursion is almost always slower than an iterative alternative.\n",
    "# Only use in cases where readability is more important than efficiency.\n",
    "class Solution:\n",
    "    def search(self, nums: List[int], target: int) -> int:\n",
    "        def helper(l,r):\n",
    "            # Base Case: Not found/Empty\n",
    "            if l > r:\n",
    "                return -1\n",
    "\n",
    "            # Base case: Target found\n",
    "            mid = (l+r)//2\n",
    "            if nums[mid] == target:\n",
    "                return mid\n",
    "            \n",
    "            # Recursive Step: \n",
    "            elif nums[mid] < target:\n",
    "                return helper(mid+1, r)\n",
    "            else:\n",
    "                return helper(l,mid-1)\n",
    "\n",
    "        return helper(0, len(nums)-1)"
   ]
  },
  {
   "cell_type": "markdown",
   "id": "b5dbbe57",
   "metadata": {},
   "source": [
    "Results:\n",
    "\n",
    "![image.png](attachment:image.png)"
   ]
  }
 ],
 "metadata": {
  "language_info": {
   "name": "python"
  }
 },
 "nbformat": 4,
 "nbformat_minor": 5
}
