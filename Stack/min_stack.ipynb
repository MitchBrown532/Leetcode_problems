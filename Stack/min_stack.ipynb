{
 "cells": [
  {
   "cell_type": "markdown",
   "id": "09d46d99",
   "metadata": {},
   "source": [
    "## Minimum Stack\n",
    "#### Difficulty: Medium\n",
    "\n",
    "Design a stack class that supports the `push`, `pop`, `top`, and `getMin` operations.\n",
    "\n",
    "- `MinStack()` initializes the stack object.\n",
    "- `void push(int val)` pushes the element `val` onto the stack.\n",
    "- `void pop()` removes the element on the top of the stack.\n",
    "- `int top()` gets the top element of the stack.\n",
    "- `int getMin()` retrieves the minimum element in the stack.\n",
    "\n",
    "Each function should run in `O(1)` time.\n",
    "\n",
    "Constraints:\n",
    "- -2<sup>31</sup> <= `val` <= 2<sup>31</sup>  - 1\n",
    "- Methods pop, top and getMin operations will always be called on non-empty stacks.\n",
    "- At most 3 * 10<sup>4</sup>  calls will be made to `push`, `pop`, `top`, and `getMin`.\n",
    "\n",
    "Link to problem: https://leetcode.com/problems/min-stack/description/"
   ]
  },
  {
   "cell_type": "code",
   "execution_count": null,
   "id": "78469e45",
   "metadata": {},
   "outputs": [],
   "source": [
    "# Solution 1: Simple stack implementation, only difference is we track the minimum.\n",
    "# Tracking the minimum allows us to use getMin() in constant time - otherwise would be O(n)\n",
    "class MinStack:\n",
    "    def __init__(self):\n",
    "        # Init a regular stack & one for minimums \n",
    "        self.vals = []\n",
    "        self.mins = []\n",
    "\n",
    "    def push(self, val: int) -> None:\n",
    "        # Push to normal stack\n",
    "        self.vals.append(val)\n",
    "        \n",
    "        # Update mins - handle case where mins is empty (first insert)\n",
    "        if not self.mins:\n",
    "            self.mins.append(val)\n",
    "        else:\n",
    "            self.mins.append(min(val, self.mins[-1]))\n",
    "\n",
    "    # Skipping empty error checks for methods below (explicitly stated we will not deal with them)\n",
    "    def pop(self) -> None:\n",
    "        self.vals.pop()\n",
    "        self.mins.pop()\n",
    "\n",
    "    def top(self) -> int:\n",
    "        # Pop then put it back\n",
    "        item = self.vals.pop()\n",
    "        self.vals.append(item)\n",
    "        return item\n",
    "\n",
    "    def getMin(self) -> int:\n",
    "        # Same as top() except for mins\n",
    "        item = self.mins.pop()\n",
    "        self.mins.append(item)\n",
    "        return item\n"
   ]
  }
 ],
 "metadata": {
  "language_info": {
   "name": "python"
  }
 },
 "nbformat": 4,
 "nbformat_minor": 5
}
