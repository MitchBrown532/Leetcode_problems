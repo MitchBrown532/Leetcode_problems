{
 "cells": [
  {
   "cell_type": "markdown",
   "metadata": {},
   "source": [
    "## Top K Frequent Elements \n",
    "Given an integer array nums and an integer k, return the k most frequent elements. You may return the answer in any order.\n",
    "\n",
    "Constraints:\n",
    "- 1 <= nums.length <= 105\n",
    "- -104 <= nums[i] <= 104\n",
    "- k is in the range [1, the number of unique elements in the array].\n",
    "- It is guaranteed that the answer is unique.\n",
    "\n",
    "Link to problem: https://leetcode.com/problems/top-k-frequent-elements/\n"
   ]
  },
  {
   "cell_type": "code",
   "execution_count": 2,
   "metadata": {},
   "outputs": [
    {
     "ename": "TypeError",
     "evalue": "topKFrequent() missing 1 required positional argument: 'k'",
     "output_type": "error",
     "traceback": [
      "\u001b[1;31m---------------------------------------------------------------------------\u001b[0m",
      "\u001b[1;31mTypeError\u001b[0m                                 Traceback (most recent call last)",
      "\u001b[1;32mc:\\Users\\mitch\\OneDrive\\Desktop\\School Shtuff\\CP363 - Database\\Leetcode_problems\\Arrays & Hashing\\top_k_elements.ipynb Cell 2\u001b[0m in \u001b[0;36m<cell line: 20>\u001b[1;34m()\u001b[0m\n\u001b[0;32m     <a href='vscode-notebook-cell:/c%3A/Users/mitch/OneDrive/Desktop/School%20Shtuff/CP363%20-%20Database/Leetcode_problems/Arrays%20%26%20Hashing/top_k_elements.ipynb#W2sZmlsZQ%3D%3D?line=15'>16</a>\u001b[0m             output\u001b[39m.\u001b[39mappend(count\u001b[39m.\u001b[39mpop(max_key))\n\u001b[0;32m     <a href='vscode-notebook-cell:/c%3A/Users/mitch/OneDrive/Desktop/School%20Shtuff/CP363%20-%20Database/Leetcode_problems/Arrays%20%26%20Hashing/top_k_elements.ipynb#W2sZmlsZQ%3D%3D?line=17'>18</a>\u001b[0m         \u001b[39mreturn\u001b[39;00m output\n\u001b[1;32m---> <a href='vscode-notebook-cell:/c%3A/Users/mitch/OneDrive/Desktop/School%20Shtuff/CP363%20-%20Database/Leetcode_problems/Arrays%20%26%20Hashing/top_k_elements.ipynb#W2sZmlsZQ%3D%3D?line=19'>20</a>\u001b[0m \u001b[39mprint\u001b[39m(topKFrequent([\u001b[39m1\u001b[39;49m,\u001b[39m1\u001b[39;49m,\u001b[39m1\u001b[39;49m,\u001b[39m2\u001b[39;49m,\u001b[39m2\u001b[39;49m,\u001b[39m3\u001b[39;49m],\u001b[39m2\u001b[39;49m))\n",
      "\u001b[1;31mTypeError\u001b[0m: topKFrequent() missing 1 required positional argument: 'k'"
     ]
    }
   ],
   "source": [
    "def topKFrequent(self, nums, k):\n",
    "        \"\"\"\n",
    "        :type nums: List[int]\n",
    "        :type k: int\n",
    "        :rtype: List[int]\n",
    "        \"\"\"\n",
    "        output = []\n",
    "        count = defaultdict(int)\n",
    "        \n",
    "        # Count unique intgers\n",
    "        for num in nums:\n",
    "            count[num] += 1\n",
    "\n",
    "        for i in range(k):\n",
    "            max_key = max(count, key=count.get)\n",
    "            output.append(count.pop(max_key))\n",
    "\n",
    "        return output\n",
    "\n",
    "print(topKFrequent(nums=[1,1,1,2,2,3], k=2))"
   ]
  },
  {
   "cell_type": "code",
   "execution_count": null,
   "metadata": {},
   "outputs": [],
   "source": []
  }
 ],
 "metadata": {
  "kernelspec": {
   "display_name": "base",
   "language": "python",
   "name": "python3"
  },
  "language_info": {
   "codemirror_mode": {
    "name": "ipython",
    "version": 3
   },
   "file_extension": ".py",
   "mimetype": "text/x-python",
   "name": "python",
   "nbconvert_exporter": "python",
   "pygments_lexer": "ipython3",
   "version": "3.9.12"
  },
  "orig_nbformat": 4
 },
 "nbformat": 4,
 "nbformat_minor": 2
}
