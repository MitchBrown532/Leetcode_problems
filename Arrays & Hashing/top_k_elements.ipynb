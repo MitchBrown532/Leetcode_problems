{
 "cells": [
  {
   "cell_type": "markdown",
   "metadata": {},
   "source": [
    "## Top K Frequent Elements \n",
    "Given an integer array nums and an integer k, return the k most frequent elements. You may return the answer in any order.\n",
    "\n",
    "Constraints:\n",
    "- 1 <= nums.length <= 105\n",
    "- -104 <= nums[i] <= 104\n",
    "- k is in the range [1, the number of unique elements in the array].\n",
    "- It is guaranteed that the answer is unique.\n",
    "\n",
    "Link to problem: https://leetcode.com/problems/top-k-frequent-elements/\n"
   ]
  },
  {
   "cell_type": "code",
   "execution_count": 4,
   "metadata": {},
   "outputs": [],
   "source": [
    "# This implementation works doesn't perform amazingly in runtime.\n",
    "from collections import defaultdict\n",
    "\n",
    "def topKFrequent(self, nums, k):\n",
    "        \"\"\"\n",
    "        :type nums: List[int]\n",
    "        :type k: int\n",
    "        :rtype: List[int]\n",
    "        \"\"\"\n",
    "        output = []\n",
    "        count = defaultdict(int)\n",
    "        \n",
    "        # Count unique intgers\n",
    "        for num in nums:\n",
    "            count[num] += 1\n",
    "\n",
    "        # Pop the key of the max value k times, append to output\n",
    "        for i in range(k):\n",
    "            max_key = max(count, key=count.get)\n",
    "            count.pop(max_key)\n",
    "            output.append(max_key)\n",
    "\n",
    "        return output\n",
    "\n",
    "#print(topKFrequent([1,1,1,2,2,3], 2))"
   ]
  },
  {
   "cell_type": "code",
   "execution_count": null,
   "metadata": {},
   "outputs": [],
   "source": []
  }
 ],
 "metadata": {
  "kernelspec": {
   "display_name": "base",
   "language": "python",
   "name": "python3"
  },
  "language_info": {
   "codemirror_mode": {
    "name": "ipython",
    "version": 3
   },
   "file_extension": ".py",
   "mimetype": "text/x-python",
   "name": "python",
   "nbconvert_exporter": "python",
   "pygments_lexer": "ipython3",
   "version": "3.9.12"
  },
  "orig_nbformat": 4
 },
 "nbformat": 4,
 "nbformat_minor": 2
}
