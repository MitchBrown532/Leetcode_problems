{
 "cells": [
  {
   "cell_type": "markdown",
   "metadata": {},
   "source": [
    "## Contains Duplicate\n",
    "Given an integer array nums, return true if any value appears at least twice in the array, and return false if every element is distinct.\n",
    "\n",
    "Constraints:\n",
    "- 1 <= nums.length <= 105\n",
    "- -109 <= nums[i] <= 109\n",
    "\n",
    "\n",
    "Link to problem: https://leetcode.com/problems/contains-duplicate/\n"
   ]
  },
  {
   "cell_type": "code",
   "execution_count": null,
   "metadata": {},
   "outputs": [],
   "source": [
    "def containsDuplicate(self, nums):\n",
    "        \"\"\"\n",
    "        :type nums: List[int]\n",
    "        :rtype: bool\n",
    "        \"\"\"\n",
    "\n",
    "        # Using set() removes all duplicates\n",
    "        nums_set = set(nums)\n",
    "        \n",
    "        # Same length only if no duplicates were removed\n",
    "        return len(nums) != len(nums_set)"
   ]
  }
 ],
 "metadata": {
  "language_info": {
   "name": "python"
  },
  "orig_nbformat": 4
 },
 "nbformat": 4,
 "nbformat_minor": 2
}
