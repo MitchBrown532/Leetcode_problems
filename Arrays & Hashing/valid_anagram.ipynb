{
 "cells": [
  {
   "cell_type": "markdown",
   "metadata": {},
   "source": [
    "## Valid Anagram \n",
    "Given two strings s and t, return true if t is an anagram of s, and false otherwise.\n",
    "An Anagram is a word or phrase formed by rearranging the letters of a different word or phrase, typically using all the original letters exactly once.\n",
    "\n",
    "Constraints:\n",
    "- 1 <= s.length, t.length <= 5 * 104\n",
    "- s and t consist of lowercase English letters.\n",
    "\n",
    "Link to problem: https://leetcode.com/problems/valid-anagram/"
   ]
  },
  {
   "cell_type": "code",
   "execution_count": null,
   "metadata": {},
   "outputs": [],
   "source": [
    "#Note that this solution uses sorted(), therefore the time complexity will be worst-case O(n log n)\n",
    "def isAnagram(self, s, t):\n",
    "    \"\"\"\n",
    "    :type s: str\n",
    "    :type t: str\n",
    "    :rtype: bool\n",
    "    \"\"\"\n",
    "    # If different lengths, they cannot be anagrams\n",
    "    if len(s) != len(t):\n",
    "        return False\n",
    "    \n",
    "    # If anagrams, they will be the same when sorted.\n",
    "    return sorted(s) == sorted(t)"
   ]
  },
  {
   "cell_type": "code",
   "execution_count": null,
   "metadata": {},
   "outputs": [],
   "source": [
    "# This solution is longer, but may have a better run time.\n",
    "def isAnagram(self, s, t):\n",
    "    \"\"\"\n",
    "    :type s: str\n",
    "    :type t: str\n",
    "    :rtype: bool\n",
    "    \"\"\"\n",
    "    # Check for different length\n",
    "    if len(s) != len(t):\n",
    "        return False\n",
    "\n",
    "    # Initialize hashmap\n",
    "    countS, countT = {}, {}\n",
    "\n",
    "    # Count each character, store in hashmap\n",
    "    for i in range(len(s)):\n",
    "        countS[s[i]] = 1 + countS.get(s[i], 0)\n",
    "        countT[t[i]] = 1 + countT.get(t[i], 0)\n",
    "\n",
    "    return countS == countT"
   ]
  },
  {
   "cell_type": "code",
   "execution_count": null,
   "metadata": {},
   "outputs": [],
   "source": [
    "# Same solution as above but uses Counter() - This makes code easy to read and bypasses having to explicitly do each step. (requires import, may not be applicable depending on the interview)\n",
    "from collections import Counter\n",
    "\n",
    "def isAnagram(self, s, t):\n",
    "    \"\"\"\n",
    "    :type s: str\n",
    "    :type t: str\n",
    "    :rtype: bool\n",
    "    \"\"\"\n",
    "\n",
    "    # Check for different length\n",
    "    if len(s) != len(t):\n",
    "        return False\n",
    "    \n",
    "    # Creates hashmap with a count of each item\n",
    "    return Counter(s) == Counter(t)"
   ]
  }
 ],
 "metadata": {
  "language_info": {
   "name": "python"
  },
  "orig_nbformat": 4
 },
 "nbformat": 4,
 "nbformat_minor": 2
}
