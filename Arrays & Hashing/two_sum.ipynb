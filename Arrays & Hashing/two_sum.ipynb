{
 "cells": [
  {
   "cell_type": "markdown",
   "metadata": {},
   "source": [
    "## Two Sum\n",
    "\n",
    "Given an array of integers nums and an integer target, return indices of the two numbers such that they add up to target.\n",
    "\n",
    "You may assume that each input would have exactly one solution, and you may not use the same element twice.\n",
    "\n",
    "You can return the answer in any order.\n",
    "\n",
    "Contraints:\n",
    "- 2 <= nums.length <= 104\n",
    "- -109 <= nums[i] <= 109\n",
    "- -109 <= target <= 109\n",
    "- Only one valid answer exists.\n",
    "\n",
    "Link to problem: https://leetcode.com/problems/two-sum/\n"
   ]
  },
  {
   "cell_type": "code",
   "execution_count": null,
   "metadata": {},
   "outputs": [],
   "source": [
    "# Naive approach: nested for loops. Worst case: O(n^2) <------------- This Solution sucks\n",
    "def twoSum(self, nums, target):\n",
    "        \"\"\"\n",
    "        :type nums: List[int]\n",
    "        :type target: int\n",
    "        :rtype: List[int]\n",
    "        \"\"\"\n",
    "\n",
    "        # Okay to use pop() since all possible 2-sums will be checked, therefore index 0 can be dropped if no solution found.\n",
    "        for i in range(len(nums)):\n",
    "            int = nums.pop(0)\n",
    "\n",
    "            for x in range(len(nums)):\n",
    "                # If solution found, return immediately.\n",
    "                if (nums[x]+int) == target:\n",
    "                    return i, x+i+1"
   ]
  },
  {
   "cell_type": "code",
   "execution_count": null,
   "metadata": {},
   "outputs": [],
   "source": [
    "# More efficient: Only interates through once. <------------- Way better\n",
    "def twoSum(self, nums, target):\n",
    "        \"\"\"\n",
    "        :type nums: List[int]\n",
    "        :type target: int\n",
    "        :rtype: List[int]\n",
    "        \"\"\"\n",
    "        # Create an empty dictionary to store the elements and their indices\n",
    "        num_dict = {}\n",
    "\n",
    "        # Enumerate() creates dictionary of index: value, i & num store those values.\n",
    "        for i, num in enumerate(nums):\n",
    "            # Rather then checking each number to see if it adds to target, find complement and see if it exists in num_dict\n",
    "            complement = target - num\n",
    "            # If found - return\n",
    "            if complement in num_dict:\n",
    "                return num_dict[complement], i\n",
    "            num_dict[num] = i\n",
    "\n",
    "        return None"
   ]
  }
 ],
 "metadata": {
  "language_info": {
   "name": "python"
  },
  "orig_nbformat": 4
 },
 "nbformat": 4,
 "nbformat_minor": 2
}
