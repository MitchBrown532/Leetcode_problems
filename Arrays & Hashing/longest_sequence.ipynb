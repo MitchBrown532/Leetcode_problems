{
 "cells": [
  {
   "cell_type": "markdown",
   "metadata": {},
   "source": [
    "## Longest Consecutive Sequence\n",
    "#### Difficulty: Medium\n",
    "\n",
    "\n",
    "Given an unsorted array of integers `nums`, return the length of the longest consecutive elements sequence.\n",
    "\n",
    "You must write an algorithm that runs in `O(n)` time.\n",
    "\n",
    "Constraints:\n",
    "- `0 <= nums.length <= 105`\n",
    "- `-109 <= nums[i] <= 109`\n",
    "\n",
    "Link to problem: https://leetcode.com/problems/longest-consecutive-sequence/"
   ]
  },
  {
   "cell_type": "code",
   "execution_count": null,
   "metadata": {},
   "outputs": [],
   "source": [
    "def longestConsecutive(self, nums):\n",
    "        \"\"\"\n",
    "        :type nums: List[int]\n",
    "        :rtype: int\n",
    "        \"\"\"\n",
    "        '''\n",
    "        Given: Array of nums\n",
    "        Required: Length of the longest consecutive elements.\n",
    "            - Store longest sequence in an array.\n",
    "            - Iterate through nums until a larger sequence is found\n",
    "            - Replace the array with the new max, continue until nums is completely searched.\n",
    "        '''\n",
    "\n",
    "        longest_array = set()\n",
    "        new_array = set()\n",
    "\n",
    "        for i, num in enumerate(nums):\n",
    "                # Hanlding edge-case\n",
    "                if i == 0:\n",
    "                        new_array.add(num)\n",
    "\n",
    "                # Checking if consecutive\n",
    "                elif num - 1 == nums[i-1]:\n",
    "                        new_array.add(num)\n",
    "                        if len(new_array) > len(longest_array):\n",
    "                            longest_array = new_array\n",
    "\n",
    "                # Reset new_array if consecutivness is broken\n",
    "                else:\n",
    "                        new_array = set()\n",
    "\n",
    "                \n",
    "\n",
    "        return len(longest_array)\n",
    "\n",
    "                  "
   ]
  }
 ],
 "metadata": {
  "language_info": {
   "name": "python"
  },
  "orig_nbformat": 4
 },
 "nbformat": 4,
 "nbformat_minor": 2
}
