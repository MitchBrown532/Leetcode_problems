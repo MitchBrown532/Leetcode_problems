{
 "cells": [
  {
   "cell_type": "markdown",
   "metadata": {},
   "source": [
    "## Group Anagrams\n",
    "\n",
    "Given an array of strings strs, group the anagrams together. You can return the answer in any order.\n",
    "\n",
    "An Anagram is a word or phrase formed by rearranging the letters of a different word or phrase, typically using all the original letters exactly once.\n",
    "\n",
    "Constraints:\n",
    "- 1 <= strs.length <= 104\n",
    "- 0 <= strs[i].length <= 100\n",
    "- strs[i] consists of lowercase English letters.\n",
    "\n",
    "Link to problem: https://leetcode.com/problems/group-anagrams/\n"
   ]
  },
  {
   "cell_type": "code",
   "execution_count": 1,
   "metadata": {},
   "outputs": [],
   "source": [
    "def groupAnagrams(self, strs):\n",
    "        \"\"\"\n",
    "        :type strs: List[str]\n",
    "        :rtype: List[List[str]]\n",
    "        \"\"\"\n",
    "        # Using defaultdict to avoid KeyError when appending into an empty dictionary\n",
    "        output = defaultdict(list) \n",
    "\n",
    "\n",
    "        for word in strs:\n",
    "            # Array to count how many occurances of each letter\n",
    "            count = [0] * 26\n",
    "\n",
    "            for char in word:\n",
    "                # This gives index. ord(\"a\") - ord(\"a\") = 0, ord(\"z\") - ord(\"a\") = 25\n",
    "                count[ord(char) - ord(\"a\")] +=1\n",
    "\n",
    "            # Keys MUST be immutable - for hashing and consistency - hence the use of tuple()\n",
    "            output[tuple(count)].append(word)\n",
    "\n",
    "        return output.values()"
   ]
  },
  {
   "cell_type": "code",
   "execution_count": 2,
   "metadata": {},
   "outputs": [],
   "source": [
    "# Implementation using Counter() - more concise but may not be allowed in an interview.\n",
    "\n",
    "# Also note that this implementation ran into trouble with leetcode. The answers were correct, but in a different order.\n",
    "\n",
    "from collections import Counter\n",
    "def groupAnagrams(self, strs):\n",
    "        \"\"\"\n",
    "        :type strs: List[str]\n",
    "        :rtype: List[List[str]]\n",
    "        \"\"\"\n",
    "        # Using defaultdict to avoid KeyError when appending into an empty dictionary\n",
    "        output = defaultdict(list) \n",
    "\n",
    "\n",
    "        for word in strs:\n",
    "            \n",
    "            # Using counter rather than making array of 26 zeros \n",
    "            x = Counter(word)\n",
    "\n",
    "            # Keys MUST be immutable - for hashing and consistency - hence the use of tuple()\n",
    "            output[tuple(x)].append(word)\n",
    "\n",
    "        return output.values()"
   ]
  }
 ],
 "metadata": {
  "kernelspec": {
   "display_name": "base",
   "language": "python",
   "name": "python3"
  },
  "language_info": {
   "codemirror_mode": {
    "name": "ipython",
    "version": 3
   },
   "file_extension": ".py",
   "mimetype": "text/x-python",
   "name": "python",
   "nbconvert_exporter": "python",
   "pygments_lexer": "ipython3",
   "version": "3.9.12"
  },
  "orig_nbformat": 4
 },
 "nbformat": 4,
 "nbformat_minor": 2
}
